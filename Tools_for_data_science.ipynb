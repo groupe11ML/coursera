{
 "cells": [
  {
   "cell_type": "markdown",
   "metadata": {},
   "source": [
    "<center>\n",
    "    <img src=\"https://cf-courses-data.s3.us.cloud-object-storage.appdomain.cloud/IBMDeveloperSkillsNetwork-DS0105EN-SkillsNetwork/labs/Module2/images/SN_web_lightmode.png\" width=\"300\" alt=\"cognitiveclass.ai logo\">\n",
    "</center>\n"
   ]
  },
  {
   "cell_type": "markdown",
   "metadata": {},
   "source": [
    "#### Add your code below following the instructions given in the course\n"
   ]
  },
  {
   "cell_type": "markdown",
   "metadata": {
    "tags": []
   },
   "source": [
    "# **Tools for data science notebook**\n",
    "\n"
   ]
  },
  {
   "cell_type": "markdown",
   "metadata": {},
   "source": [
    "## **Introduction**\n",
    "\n",
    "In this notebook, Data Science Tools and Ecosystem are summarized.\n",
    "\n",
    "In this module, we learn about the different types and categories of tools used by data scientists, as well as popular examples of each. we also learn about Open Source, Cloud and commercial options for data science tools"
   ]
  },
  {
   "cell_type": "markdown",
   "metadata": {},
   "source": [
    "## **data science languages**\n",
    "\n",
    "Some of the popular languages that data scientists use are : \n",
    "1. **Python**\n",
    "   - Widely used for data analysis, machine learning, and general-purpose programming.\n",
    "   - Rich ecosystem of libraries such as NumPy, pandas, scikit-learn, and TensorFlow.\n",
    "\n",
    "2. **R**\n",
    "   - Popular for statistical analysis and data visualization.\n",
    "   - Extensive collection of packages like ggplot2, dplyr, and caret.\n",
    "\n",
    "3. **SQL**\n",
    "   - Essential for managing and querying relational databases.\n",
    "   - Used for data extraction, transformation, and loading (ETL processes).\n",
    "\n",
    "4. **Java**\n",
    "   - Utilized for building large-scale data processing systems.\n",
    "   - Strong performance and scalability with frameworks like Apache Hadoop and Apache Spark.\n"
   ]
  },
  {
   "cell_type": "markdown",
   "metadata": {},
   "source": [
    "## **data science libraries**\n",
    "\n",
    "Some of the commonly used libraries used by Data Scientists include:\n",
    "\n",
    "\n",
    "\n",
    "### Python Libraries\n",
    "1. **NumPy**\n",
    "   - Fundamental package for numerical computing.\n",
    "   - Provides support for arrays, matrices, and high-level mathematical functions.\n",
    "\n",
    "2. **pandas**\n",
    "   - Essential for data manipulation and analysis.\n",
    "   - Offers data structures like DataFrame for handling tabular data.\n",
    "\n",
    "3. **Matplotlib**\n",
    "   - Comprehensive library for creating static, animated, and interactive visualizations.\n",
    "   - Works well with NumPy and pandas data structures.\n",
    "\n",
    "4. **Seaborn**\n",
    "   - Built on top of Matplotlib.\n",
    "   - Simplifies complex visualizations with high-level interface for drawing attractive and informative statistical graphics.\n",
    "\n",
    "5. **scikit-learn**\n",
    "   - Popular library for machine learning.\n",
    "   - Provides simple and efficient tools for data mining and data analysis.\n",
    "\n",
    "6. **TensorFlow**\n",
    "   - Open-source library for machine learning and deep learning.\n",
    "   - Developed by Google Brain, widely used for neural network models.\n",
    "\n",
    "7. **Keras**\n",
    "   - High-level neural networks API.\n",
    "   - Runs on top of TensorFlow, making it easier to build and train deep learning models.\n",
    "\n",
    "8. **SciPy**\n",
    "   - Builds on NumPy.\n",
    "   - Provides additional functionality for scientific and technical computing.\n",
    "\n",
    "9. **Statsmodels**\n",
    "   - Library for estimating and testing statistical models.\n",
    "   - Useful for hypothesis testing and statistical data analysis.\n",
    "\n",
    "### R Libraries\n",
    "1. **ggplot2**\n",
    "   - Extends R’s visualization capabilities.\n",
    "   - Implements the grammar of graphics for creating complex plots from data in a data frame.\n",
    "\n",
    "2. **dplyr**\n",
    "   - Essential for data manipulation.\n",
    "   - Provides a flexible grammar of data manipulation.\n",
    "\n",
    "3. **caret**\n",
    "   - Streamlines the process of creating predictive models.\n",
    "   - Combines various functions for model training and evaluation.\n",
    "\n",
    "4. **shiny**\n",
    "   - Framework for building interactive web applications.\n",
    "   - Makes it easy to turn analyses into interactive web applications.\n",
    "\n",
    "5. **tidyr**\n",
    "   - Helps to tidy data.\n",
    "   - Ensures that data sets are consistent and easy to analyze.\n"
   ]
  },
  {
   "cell_type": "markdown",
   "metadata": {},
   "source": [
    "## Data Science Tools\n",
    "\n",
    "| Data Science Tools                 |\n",
    "|------------------------------------|\n",
    "| Jupyter Notebook                   |\n",
    "| RStudio                            |\n",
    "\n"
   ]
  },
  {
   "cell_type": "markdown",
   "metadata": {
    "tags": []
   },
   "source": [
    "## Arithmetic Expression Examples\n",
    "\n",
    "Arithmetic expressions are mathematical statements that perform basic operations like addition, subtraction, multiplication, and division. They form the foundation of calculations in programming and data analysis. Here are some examples of arithmetic expressions:\n",
    "\n",
    "1. **Addition (+)**: Combines two numbers into a sum.\n",
    "   - Example: `3 + 5 = 8`\n",
    "\n",
    "2. **Subtraction (-)**: Calculates the difference between two numbers.\n",
    "   - Example: `10 - 4 = 6`\n",
    "\n",
    "3. **Multiplication (*)**: Multiplies two numbers together.\n",
    "   - Example: `6 * 7 = 42`\n",
    "\n",
    "4. **Division (/)**: Divides one number by another.\n",
    "   - Example: `20 / 4 = 5`\n",
    "\n",
    "5. **Exponentiation (^ or **)**: Raises a number to the power of another number.\n",
    "   - Example: `2 ^ 3 = 8` or `2 ** 3 = 8`\n",
    "\n",
    "6. **Modulo (%)**: Finds the remainder of division of one number by another.\n",
    "   - Example: `10 % 3 = 1`"
   ]
  },
  {
   "cell_type": "markdown",
   "metadata": {},
   "source": [
    "## Multiplying and adding numbers"
   ]
  },
  {
   "cell_type": "code",
   "execution_count": 2,
   "metadata": {
    "tags": []
   },
   "outputs": [
    {
     "data": {
      "text/plain": [
       "41"
      ]
     },
     "execution_count": 2,
     "metadata": {},
     "output_type": "execute_result"
    }
   ],
   "source": [
    "(12*3) + 5"
   ]
  },
  {
   "cell_type": "markdown",
   "metadata": {},
   "source": [
    "## Convert minutes to hours"
   ]
  },
  {
   "cell_type": "code",
   "execution_count": 3,
   "metadata": {
    "tags": []
   },
   "outputs": [
    {
     "data": {
      "text/plain": [
       "2.0"
      ]
     },
     "execution_count": 3,
     "metadata": {},
     "output_type": "execute_result"
    }
   ],
   "source": [
    "# This will convert 120 minutes to hours by diving by 60\n",
    "# Define the number of minutes\n",
    "minutes = 120\n",
    "\n",
    "# Perform the conversion from minutes to hours\n",
    "hours = minutes / 60\n",
    "\n",
    "# Print the result\n",
    "hours\n"
   ]
  },
  {
   "cell_type": "markdown",
   "metadata": {
    "tags": []
   },
   "source": [
    "## **Objectives:**\n",
    "\n",
    "- List popular languages for Data Science\n",
    "- List commonly used Data Science libraries\n",
    "- Create a table of Data Science tools\n",
    "- Introduce and exemplify arithmetic expressions\n",
    "- Write and execute code to perform basic arithmetic operations and unit conversions"
   ]
  },
  {
   "cell_type": "markdown",
   "metadata": {
    "tags": []
   },
   "source": [
    "## **Author**\n",
    "**LONTSI TIDOH Morel**"
   ]
  },
  {
   "cell_type": "code",
   "execution_count": null,
   "metadata": {},
   "outputs": [],
   "source": []
  }
 ],
 "metadata": {
  "kernelspec": {
   "display_name": "Python",
   "language": "python",
   "name": "conda-env-python-py"
  },
  "language_info": {
   "codemirror_mode": {
    "name": "ipython",
    "version": 3
   },
   "file_extension": ".py",
   "mimetype": "text/x-python",
   "name": "python",
   "nbconvert_exporter": "python",
   "pygments_lexer": "ipython3",
   "version": "3.7.12"
  }
 },
 "nbformat": 4,
 "nbformat_minor": 4
}
